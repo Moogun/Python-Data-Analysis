{
 "cells": [
  {
   "cell_type": "code",
   "execution_count": 3,
   "metadata": {},
   "outputs": [],
   "source": [
    "import pandas as pd\n",
    "import matplotlib.pyplot as plt\n",
    "\n",
    "%matplotlib inline "
   ]
  },
  {
   "cell_type": "markdown",
   "metadata": {},
   "source": [
    "## 2017 raw data ( https://www.data.go.kr/ )"
   ]
  },
  {
   "cell_type": "code",
   "execution_count": 255,
   "metadata": {},
   "outputs": [],
   "source": [
    "q2_1 = pd.read_csv('../../seoul_bike_rental_hist/hist_2017_2q_1.csv', encoding=\"euc_kr\")\n",
    "q2_2 = pd.read_csv('../../seoul_bike_rental_hist/hist_2017_2q_2.csv', encoding=\"euc_kr\")"
   ]
  },
  {
   "cell_type": "code",
   "execution_count": 269,
   "metadata": {},
   "outputs": [],
   "source": [
    "q3_1 = pd.read_csv('../../seoul_bike_rental_hist/hist_2017_3q_1.csv', encoding=\"euc_kr\")\n",
    "q3_2 = pd.read_csv('../../seoul_bike_rental_hist/hist_2017_3q_2.csv', encoding=\"euc_kr\")"
   ]
  },
  {
   "cell_type": "code",
   "execution_count": 290,
   "metadata": {},
   "outputs": [],
   "source": [
    "q4_1 = pd.read_csv('../../seoul_bike_rental_hist/hist_2017_4q_1.csv', encoding=\"euc_kr\")\n",
    "q4_2 = pd.read_csv('../../seoul_bike_rental_hist/hist_2017_4q_2.csv', encoding=\"euc_kr\")"
   ]
  },
  {
   "cell_type": "code",
   "execution_count": 256,
   "metadata": {},
   "outputs": [],
   "source": [
    "q2 = pd.concat([q2_1, q2_2])"
   ]
  },
  {
   "cell_type": "code",
   "execution_count": 270,
   "metadata": {},
   "outputs": [],
   "source": [
    "q3 = pd.concat([q3_1, q3_2])"
   ]
  },
  {
   "cell_type": "code",
   "execution_count": 291,
   "metadata": {},
   "outputs": [],
   "source": [
    "q4 = pd.concat([q4_1, q4_2])"
   ]
  },
  {
   "cell_type": "code",
   "execution_count": null,
   "metadata": {},
   "outputs": [],
   "source": []
  },
  {
   "cell_type": "markdown",
   "metadata": {},
   "source": [
    "## 2018 raw data ( https://www.data.go.kr/ )"
   ]
  },
  {
   "cell_type": "code",
   "execution_count": 474,
   "metadata": {},
   "outputs": [],
   "source": [
    "q1_1_18 = pd.read_csv('../../seoul_bike_rental_hist/rental_hist_2018_q1_1.csv', encoding=\"euc_kr\")"
   ]
  },
  {
   "cell_type": "code",
   "execution_count": 371,
   "metadata": {},
   "outputs": [],
   "source": [
    "q2_1_18 = pd.read_csv('../../seoul_bike_rental_hist/rental_hist_2018_q2_1.csv', encoding=\"euc_kr\")\n",
    "q2_2_18 = pd.read_csv('../../seoul_bike_rental_hist/rental_hist_2018_q2_2.csv', encoding=\"euc_kr\")\n",
    "q2_3_18 = pd.read_csv('../../seoul_bike_rental_hist/rental_hist_2018_q2_3.csv', encoding=\"euc_kr\")\n",
    "q2_4_18 = pd.read_csv('../../seoul_bike_rental_hist/rental_hist_2018_q2_4.csv', encoding=\"euc_kr\")"
   ]
  },
  {
   "cell_type": "code",
   "execution_count": 373,
   "metadata": {},
   "outputs": [],
   "source": [
    "q2_18 = pd.concat([q2_1_18, q2_2_18, q2_3_18, q2_4_18])"
   ]
  },
  {
   "cell_type": "code",
   "execution_count": null,
   "metadata": {
    "scrolled": true
   },
   "outputs": [],
   "source": []
  },
  {
   "cell_type": "code",
   "execution_count": 486,
   "metadata": {},
   "outputs": [
    {
     "name": "stdout",
     "output_type": "stream",
     "text": [
      "<class 'pandas.core.frame.DataFrame'>\n",
      "RangeIndex: 784734 entries, 0 to 784733\n",
      "Data columns (total 4 columns):\n",
      "'대여일시'                            784734 non-null object\n",
      "'이용시간(분)'                         784734 non-null int64\n",
      "'이용거리(M)'                         784734 non-null int64\n",
      "distance_group_by_minutes_used    784734 non-null int64\n",
      "dtypes: int64(3), object(1)\n",
      "memory usage: 23.9+ MB\n"
     ]
    }
   ],
   "source": [
    "q1_18_s = q1_1_18.drop(columns=[\"'자전거번호'\", \"'대여대여소번호'\", \"'대여대여소명'\", \"'대여거치대'\", \"'반납대여소번호'\", \"'반납대여소명'\", \"'반납거치대'\", \"'반납일시'\"])\n",
    "q1_18_s.info()"
   ]
  },
  {
   "cell_type": "code",
   "execution_count": 487,
   "metadata": {},
   "outputs": [],
   "source": [
    "q2_18_s = q2_18.drop(columns=[\"'자전거번호'\", \"'대여대여소번호'\", \"'대여대여소명'\", \"'대여거치대'\", \"'반납대여소번호'\", \"'반납대여소명'\", \"'반납거치대'\", \"'반납일시'\"])"
   ]
  },
  {
   "cell_type": "code",
   "execution_count": 488,
   "metadata": {
    "scrolled": true
   },
   "outputs": [
    {
     "name": "stdout",
     "output_type": "stream",
     "text": [
      "<class 'pandas.core.frame.DataFrame'>\n",
      "Int64Index: 2782487 entries, 0 to 586303\n",
      "Data columns (total 3 columns):\n",
      "'대여일시'       object\n",
      "'이용시간(분)'    int64\n",
      "'이용거리(M)'    int64\n",
      "dtypes: int64(2), object(1)\n",
      "memory usage: 164.9+ MB\n"
     ]
    }
   ],
   "source": [
    "q2_18_s.info()"
   ]
  },
  {
   "cell_type": "code",
   "execution_count": 491,
   "metadata": {},
   "outputs": [],
   "source": [
    "q1_18_s['distance_group_by_minutes_used'] = [1 if 0 < d < 10 else 2 if 10 <= d < 20 else 3 if 20 <= d < 30 else 4 for d in q1_18_s[\"'이용시간(분)'\"]]"
   ]
  },
  {
   "cell_type": "code",
   "execution_count": 490,
   "metadata": {},
   "outputs": [],
   "source": [
    "q2_18_s['distance_group_by_minutes_used'] = [1 if 0 < d < 10 else 2 if 10 <= d < 20 else 3 if 20 <= d < 30 else 4 for d in q2_18_s[\"'이용시간(분)'\"]]"
   ]
  },
  {
   "cell_type": "code",
   "execution_count": null,
   "metadata": {},
   "outputs": [],
   "source": []
  },
  {
   "cell_type": "code",
   "execution_count": 492,
   "metadata": {},
   "outputs": [
    {
     "data": {
      "text/plain": [
       "1    275887\n",
       "4    217473\n",
       "2    197312\n",
       "3     94062\n",
       "Name: distance_group_by_minutes_used, dtype: int64"
      ]
     },
     "execution_count": 492,
     "metadata": {},
     "output_type": "execute_result"
    }
   ],
   "source": [
    "minutes_used_q1_18 = q1_18_s['distance_group_by_minutes_used'].value_counts()\n",
    "minutes_used_q1_18"
   ]
  },
  {
   "cell_type": "code",
   "execution_count": 494,
   "metadata": {
    "scrolled": false
   },
   "outputs": [
    {
     "data": {
      "text/plain": [
       "4    1003364\n",
       "1     731169\n",
       "2     674806\n",
       "3     373148\n",
       "Name: distance_group_by_minutes_used, dtype: int64"
      ]
     },
     "execution_count": 494,
     "metadata": {},
     "output_type": "execute_result"
    }
   ],
   "source": [
    "minutes_used_q2_18 = q2_18_s['distance_group_by_minutes_used'].value_counts()\n",
    "minutes_used_q2_18"
   ]
  },
  {
   "cell_type": "code",
   "execution_count": 495,
   "metadata": {},
   "outputs": [
    {
     "data": {
      "text/plain": [
       "1    0.351568\n",
       "4    0.277130\n",
       "2    0.251438\n",
       "3    0.119865\n",
       "Name: distance_group_by_minutes_used, dtype: float64"
      ]
     },
     "execution_count": 495,
     "metadata": {},
     "output_type": "execute_result"
    }
   ],
   "source": [
    "q1_18_s['distance_group_by_minutes_used'].value_counts(normalize=True)"
   ]
  },
  {
   "cell_type": "code",
   "execution_count": 496,
   "metadata": {
    "scrolled": true
   },
   "outputs": [
    {
     "data": {
      "text/plain": [
       "4    0.360600\n",
       "1    0.262775\n",
       "2    0.242519\n",
       "3    0.134106\n",
       "Name: distance_group_by_minutes_used, dtype: float64"
      ]
     },
     "execution_count": 496,
     "metadata": {},
     "output_type": "execute_result"
    }
   ],
   "source": [
    "q2_18_s['distance_group_by_minutes_used'].value_counts(normalize=True)"
   ]
  },
  {
   "cell_type": "code",
   "execution_count": 497,
   "metadata": {},
   "outputs": [
    {
     "data": {
      "text/html": [
       "<div>\n",
       "<style scoped>\n",
       "    .dataframe tbody tr th:only-of-type {\n",
       "        vertical-align: middle;\n",
       "    }\n",
       "\n",
       "    .dataframe tbody tr th {\n",
       "        vertical-align: top;\n",
       "    }\n",
       "\n",
       "    .dataframe thead tr th {\n",
       "        text-align: left;\n",
       "    }\n",
       "\n",
       "    .dataframe thead tr:last-of-type th {\n",
       "        text-align: right;\n",
       "    }\n",
       "</style>\n",
       "<table border=\"1\" class=\"dataframe\">\n",
       "  <thead>\n",
       "    <tr>\n",
       "      <th></th>\n",
       "      <th colspan=\"8\" halign=\"left\">'이용거리(M)'</th>\n",
       "      <th colspan=\"8\" halign=\"left\">'이용시간(분)'</th>\n",
       "    </tr>\n",
       "    <tr>\n",
       "      <th></th>\n",
       "      <th>count</th>\n",
       "      <th>mean</th>\n",
       "      <th>std</th>\n",
       "      <th>min</th>\n",
       "      <th>25%</th>\n",
       "      <th>50%</th>\n",
       "      <th>75%</th>\n",
       "      <th>max</th>\n",
       "      <th>count</th>\n",
       "      <th>mean</th>\n",
       "      <th>std</th>\n",
       "      <th>min</th>\n",
       "      <th>25%</th>\n",
       "      <th>50%</th>\n",
       "      <th>75%</th>\n",
       "      <th>max</th>\n",
       "    </tr>\n",
       "    <tr>\n",
       "      <th>distance_group_by_minutes_used</th>\n",
       "      <th></th>\n",
       "      <th></th>\n",
       "      <th></th>\n",
       "      <th></th>\n",
       "      <th></th>\n",
       "      <th></th>\n",
       "      <th></th>\n",
       "      <th></th>\n",
       "      <th></th>\n",
       "      <th></th>\n",
       "      <th></th>\n",
       "      <th></th>\n",
       "      <th></th>\n",
       "      <th></th>\n",
       "      <th></th>\n",
       "      <th></th>\n",
       "    </tr>\n",
       "  </thead>\n",
       "  <tbody>\n",
       "    <tr>\n",
       "      <th>1</th>\n",
       "      <td>275887.0</td>\n",
       "      <td>1472.601210</td>\n",
       "      <td>4950.302141</td>\n",
       "      <td>0.0</td>\n",
       "      <td>740.0</td>\n",
       "      <td>1010.0</td>\n",
       "      <td>1350.0</td>\n",
       "      <td>254820.0</td>\n",
       "      <td>275887.0</td>\n",
       "      <td>5.589905</td>\n",
       "      <td>2.128770</td>\n",
       "      <td>2.0</td>\n",
       "      <td>4.0</td>\n",
       "      <td>6.0</td>\n",
       "      <td>7.0</td>\n",
       "      <td>9.0</td>\n",
       "    </tr>\n",
       "    <tr>\n",
       "      <th>2</th>\n",
       "      <td>197312.0</td>\n",
       "      <td>2903.431266</td>\n",
       "      <td>5789.464777</td>\n",
       "      <td>0.0</td>\n",
       "      <td>1730.0</td>\n",
       "      <td>2220.0</td>\n",
       "      <td>2820.0</td>\n",
       "      <td>255810.0</td>\n",
       "      <td>197312.0</td>\n",
       "      <td>13.812389</td>\n",
       "      <td>2.836047</td>\n",
       "      <td>10.0</td>\n",
       "      <td>11.0</td>\n",
       "      <td>13.0</td>\n",
       "      <td>16.0</td>\n",
       "      <td>19.0</td>\n",
       "    </tr>\n",
       "    <tr>\n",
       "      <th>3</th>\n",
       "      <td>94062.0</td>\n",
       "      <td>4400.624269</td>\n",
       "      <td>6265.285907</td>\n",
       "      <td>0.0</td>\n",
       "      <td>2750.0</td>\n",
       "      <td>3660.0</td>\n",
       "      <td>4660.0</td>\n",
       "      <td>230470.0</td>\n",
       "      <td>94062.0</td>\n",
       "      <td>24.005954</td>\n",
       "      <td>2.867045</td>\n",
       "      <td>20.0</td>\n",
       "      <td>21.0</td>\n",
       "      <td>24.0</td>\n",
       "      <td>26.0</td>\n",
       "      <td>29.0</td>\n",
       "    </tr>\n",
       "    <tr>\n",
       "      <th>4</th>\n",
       "      <td>217473.0</td>\n",
       "      <td>7930.321723</td>\n",
       "      <td>7865.676334</td>\n",
       "      <td>0.0</td>\n",
       "      <td>3940.0</td>\n",
       "      <td>6340.0</td>\n",
       "      <td>9480.0</td>\n",
       "      <td>250590.0</td>\n",
       "      <td>217473.0</td>\n",
       "      <td>59.328933</td>\n",
       "      <td>32.942732</td>\n",
       "      <td>30.0</td>\n",
       "      <td>38.0</td>\n",
       "      <td>50.0</td>\n",
       "      <td>71.0</td>\n",
       "      <td>3158.0</td>\n",
       "    </tr>\n",
       "  </tbody>\n",
       "</table>\n",
       "</div>"
      ],
      "text/plain": [
       "                               '이용거리(M)'                                 \\\n",
       "                                   count         mean          std  min   \n",
       "distance_group_by_minutes_used                                            \n",
       "1                               275887.0  1472.601210  4950.302141  0.0   \n",
       "2                               197312.0  2903.431266  5789.464777  0.0   \n",
       "3                                94062.0  4400.624269  6265.285907  0.0   \n",
       "4                               217473.0  7930.321723  7865.676334  0.0   \n",
       "\n",
       "                                                                 '이용시간(분)'  \\\n",
       "                                   25%     50%     75%       max     count   \n",
       "distance_group_by_minutes_used                                               \n",
       "1                                740.0  1010.0  1350.0  254820.0  275887.0   \n",
       "2                               1730.0  2220.0  2820.0  255810.0  197312.0   \n",
       "3                               2750.0  3660.0  4660.0  230470.0   94062.0   \n",
       "4                               3940.0  6340.0  9480.0  250590.0  217473.0   \n",
       "\n",
       "                                                                              \\\n",
       "                                     mean        std   min   25%   50%   75%   \n",
       "distance_group_by_minutes_used                                                 \n",
       "1                                5.589905   2.128770   2.0   4.0   6.0   7.0   \n",
       "2                               13.812389   2.836047  10.0  11.0  13.0  16.0   \n",
       "3                               24.005954   2.867045  20.0  21.0  24.0  26.0   \n",
       "4                               59.328933  32.942732  30.0  38.0  50.0  71.0   \n",
       "\n",
       "                                        \n",
       "                                   max  \n",
       "distance_group_by_minutes_used          \n",
       "1                                  9.0  \n",
       "2                                 19.0  \n",
       "3                                 29.0  \n",
       "4                               3158.0  "
      ]
     },
     "execution_count": 497,
     "metadata": {},
     "output_type": "execute_result"
    }
   ],
   "source": [
    "q1_18_s.groupby('distance_group_by_minutes_used').describe()"
   ]
  },
  {
   "cell_type": "code",
   "execution_count": 498,
   "metadata": {},
   "outputs": [
    {
     "data": {
      "text/html": [
       "<div>\n",
       "<style scoped>\n",
       "    .dataframe tbody tr th:only-of-type {\n",
       "        vertical-align: middle;\n",
       "    }\n",
       "\n",
       "    .dataframe tbody tr th {\n",
       "        vertical-align: top;\n",
       "    }\n",
       "\n",
       "    .dataframe thead tr th {\n",
       "        text-align: left;\n",
       "    }\n",
       "\n",
       "    .dataframe thead tr:last-of-type th {\n",
       "        text-align: right;\n",
       "    }\n",
       "</style>\n",
       "<table border=\"1\" class=\"dataframe\">\n",
       "  <thead>\n",
       "    <tr>\n",
       "      <th></th>\n",
       "      <th colspan=\"8\" halign=\"left\">'이용거리(M)'</th>\n",
       "      <th colspan=\"8\" halign=\"left\">'이용시간(분)'</th>\n",
       "    </tr>\n",
       "    <tr>\n",
       "      <th></th>\n",
       "      <th>count</th>\n",
       "      <th>mean</th>\n",
       "      <th>std</th>\n",
       "      <th>min</th>\n",
       "      <th>25%</th>\n",
       "      <th>50%</th>\n",
       "      <th>75%</th>\n",
       "      <th>max</th>\n",
       "      <th>count</th>\n",
       "      <th>mean</th>\n",
       "      <th>std</th>\n",
       "      <th>min</th>\n",
       "      <th>25%</th>\n",
       "      <th>50%</th>\n",
       "      <th>75%</th>\n",
       "      <th>max</th>\n",
       "    </tr>\n",
       "    <tr>\n",
       "      <th>distance_group_by_minutes_used</th>\n",
       "      <th></th>\n",
       "      <th></th>\n",
       "      <th></th>\n",
       "      <th></th>\n",
       "      <th></th>\n",
       "      <th></th>\n",
       "      <th></th>\n",
       "      <th></th>\n",
       "      <th></th>\n",
       "      <th></th>\n",
       "      <th></th>\n",
       "      <th></th>\n",
       "      <th></th>\n",
       "      <th></th>\n",
       "      <th></th>\n",
       "      <th></th>\n",
       "    </tr>\n",
       "  </thead>\n",
       "  <tbody>\n",
       "    <tr>\n",
       "      <th>1</th>\n",
       "      <td>731169.0</td>\n",
       "      <td>1633.573524</td>\n",
       "      <td>6521.922634</td>\n",
       "      <td>0.0</td>\n",
       "      <td>690.0</td>\n",
       "      <td>970.0</td>\n",
       "      <td>1320.0</td>\n",
       "      <td>255910.0</td>\n",
       "      <td>731169.0</td>\n",
       "      <td>5.789655</td>\n",
       "      <td>2.129378</td>\n",
       "      <td>2.0</td>\n",
       "      <td>4.0</td>\n",
       "      <td>6.0</td>\n",
       "      <td>8.0</td>\n",
       "      <td>9.0</td>\n",
       "    </tr>\n",
       "    <tr>\n",
       "      <th>2</th>\n",
       "      <td>674806.0</td>\n",
       "      <td>2939.641645</td>\n",
       "      <td>6976.825295</td>\n",
       "      <td>0.0</td>\n",
       "      <td>1640.0</td>\n",
       "      <td>2130.0</td>\n",
       "      <td>2730.0</td>\n",
       "      <td>255550.0</td>\n",
       "      <td>674806.0</td>\n",
       "      <td>13.960689</td>\n",
       "      <td>2.838651</td>\n",
       "      <td>10.0</td>\n",
       "      <td>11.0</td>\n",
       "      <td>14.0</td>\n",
       "      <td>16.0</td>\n",
       "      <td>19.0</td>\n",
       "    </tr>\n",
       "    <tr>\n",
       "      <th>3</th>\n",
       "      <td>373148.0</td>\n",
       "      <td>4401.106987</td>\n",
       "      <td>7201.971654</td>\n",
       "      <td>0.0</td>\n",
       "      <td>2690.0</td>\n",
       "      <td>3570.0</td>\n",
       "      <td>4560.0</td>\n",
       "      <td>255690.0</td>\n",
       "      <td>373148.0</td>\n",
       "      <td>24.104642</td>\n",
       "      <td>2.862248</td>\n",
       "      <td>20.0</td>\n",
       "      <td>22.0</td>\n",
       "      <td>24.0</td>\n",
       "      <td>27.0</td>\n",
       "      <td>29.0</td>\n",
       "    </tr>\n",
       "    <tr>\n",
       "      <th>4</th>\n",
       "      <td>1003364.0</td>\n",
       "      <td>8442.822376</td>\n",
       "      <td>8714.142919</td>\n",
       "      <td>0.0</td>\n",
       "      <td>4270.0</td>\n",
       "      <td>6640.0</td>\n",
       "      <td>10050.0</td>\n",
       "      <td>255070.0</td>\n",
       "      <td>1003364.0</td>\n",
       "      <td>60.820738</td>\n",
       "      <td>33.669547</td>\n",
       "      <td>30.0</td>\n",
       "      <td>39.0</td>\n",
       "      <td>51.0</td>\n",
       "      <td>73.0</td>\n",
       "      <td>4320.0</td>\n",
       "    </tr>\n",
       "  </tbody>\n",
       "</table>\n",
       "</div>"
      ],
      "text/plain": [
       "                                '이용거리(M)'                                 \\\n",
       "                                    count         mean          std  min   \n",
       "distance_group_by_minutes_used                                             \n",
       "1                                731169.0  1633.573524  6521.922634  0.0   \n",
       "2                                674806.0  2939.641645  6976.825295  0.0   \n",
       "3                                373148.0  4401.106987  7201.971654  0.0   \n",
       "4                               1003364.0  8442.822376  8714.142919  0.0   \n",
       "\n",
       "                                                                   '이용시간(분)'  \\\n",
       "                                   25%     50%      75%       max      count   \n",
       "distance_group_by_minutes_used                                                 \n",
       "1                                690.0   970.0   1320.0  255910.0   731169.0   \n",
       "2                               1640.0  2130.0   2730.0  255550.0   674806.0   \n",
       "3                               2690.0  3570.0   4560.0  255690.0   373148.0   \n",
       "4                               4270.0  6640.0  10050.0  255070.0  1003364.0   \n",
       "\n",
       "                                                                              \\\n",
       "                                     mean        std   min   25%   50%   75%   \n",
       "distance_group_by_minutes_used                                                 \n",
       "1                                5.789655   2.129378   2.0   4.0   6.0   8.0   \n",
       "2                               13.960689   2.838651  10.0  11.0  14.0  16.0   \n",
       "3                               24.104642   2.862248  20.0  22.0  24.0  27.0   \n",
       "4                               60.820738  33.669547  30.0  39.0  51.0  73.0   \n",
       "\n",
       "                                        \n",
       "                                   max  \n",
       "distance_group_by_minutes_used          \n",
       "1                                  9.0  \n",
       "2                                 19.0  \n",
       "3                                 29.0  \n",
       "4                               4320.0  "
      ]
     },
     "execution_count": 498,
     "metadata": {},
     "output_type": "execute_result"
    }
   ],
   "source": [
    "q2_18_s.groupby('distance_group_by_minutes_used').describe()"
   ]
  },
  {
   "cell_type": "code",
   "execution_count": null,
   "metadata": {},
   "outputs": [],
   "source": []
  },
  {
   "cell_type": "code",
   "execution_count": 499,
   "metadata": {
    "scrolled": true
   },
   "outputs": [
    {
     "data": {
      "text/html": [
       "<div>\n",
       "<style scoped>\n",
       "    .dataframe tbody tr th:only-of-type {\n",
       "        vertical-align: middle;\n",
       "    }\n",
       "\n",
       "    .dataframe tbody tr th {\n",
       "        vertical-align: top;\n",
       "    }\n",
       "\n",
       "    .dataframe thead th {\n",
       "        text-align: right;\n",
       "    }\n",
       "</style>\n",
       "<table border=\"1\" class=\"dataframe\">\n",
       "  <thead>\n",
       "    <tr style=\"text-align: right;\">\n",
       "      <th></th>\n",
       "      <th>'대여일시'</th>\n",
       "      <th>'이용시간(분)'</th>\n",
       "      <th>'이용거리(M)'</th>\n",
       "      <th>distance_group_by_minutes_used</th>\n",
       "    </tr>\n",
       "  </thead>\n",
       "  <tbody>\n",
       "    <tr>\n",
       "      <th>0</th>\n",
       "      <td>'2018-01-01 00:00:10'</td>\n",
       "      <td>3</td>\n",
       "      <td>50</td>\n",
       "      <td>1</td>\n",
       "    </tr>\n",
       "    <tr>\n",
       "      <th>1</th>\n",
       "      <td>'2018-01-01 00:00:42'</td>\n",
       "      <td>24</td>\n",
       "      <td>7670</td>\n",
       "      <td>3</td>\n",
       "    </tr>\n",
       "    <tr>\n",
       "      <th>2</th>\n",
       "      <td>'2018-01-01 00:00:58'</td>\n",
       "      <td>8</td>\n",
       "      <td>1390</td>\n",
       "      <td>1</td>\n",
       "    </tr>\n",
       "    <tr>\n",
       "      <th>3</th>\n",
       "      <td>'2018-01-01 00:01:02'</td>\n",
       "      <td>8</td>\n",
       "      <td>1820</td>\n",
       "      <td>1</td>\n",
       "    </tr>\n",
       "    <tr>\n",
       "      <th>4</th>\n",
       "      <td>'2018-01-01 00:01:03'</td>\n",
       "      <td>4</td>\n",
       "      <td>850</td>\n",
       "      <td>1</td>\n",
       "    </tr>\n",
       "  </tbody>\n",
       "</table>\n",
       "</div>"
      ],
      "text/plain": [
       "                  '대여일시'  '이용시간(분)'  '이용거리(M)'  distance_group_by_minutes_used\n",
       "0  '2018-01-01 00:00:10'          3         50                               1\n",
       "1  '2018-01-01 00:00:42'         24       7670                               3\n",
       "2  '2018-01-01 00:00:58'          8       1390                               1\n",
       "3  '2018-01-01 00:01:02'          8       1820                               1\n",
       "4  '2018-01-01 00:01:03'          4        850                               1"
      ]
     },
     "execution_count": 499,
     "metadata": {},
     "output_type": "execute_result"
    }
   ],
   "source": [
    "q1_18_s.head()"
   ]
  },
  {
   "cell_type": "code",
   "execution_count": 500,
   "metadata": {},
   "outputs": [
    {
     "name": "stdout",
     "output_type": "stream",
     "text": [
      "<class 'pandas.core.frame.DataFrame'>\n",
      "Int64Index: 3567221 entries, 0 to 586303\n",
      "Data columns (total 4 columns):\n",
      "'대여일시'                            object\n",
      "'이용시간(분)'                         int64\n",
      "'이용거리(M)'                         int64\n",
      "distance_group_by_minutes_used    int64\n",
      "dtypes: int64(3), object(1)\n",
      "memory usage: 136.1+ MB\n"
     ]
    }
   ],
   "source": [
    "first_half_18 = pd.concat([q1_18_s, q2_18_s])\n",
    "first_half_18.info()"
   ]
  },
  {
   "cell_type": "code",
   "execution_count": null,
   "metadata": {},
   "outputs": [],
   "source": []
  }
 ],
 "metadata": {
  "kernelspec": {
   "display_name": "Python 3",
   "language": "python",
   "name": "python3"
  },
  "language_info": {
   "codemirror_mode": {
    "name": "ipython",
    "version": 3
   },
   "file_extension": ".py",
   "mimetype": "text/x-python",
   "name": "python",
   "nbconvert_exporter": "python",
   "pygments_lexer": "ipython3",
   "version": "3.6.2"
  }
 },
 "nbformat": 4,
 "nbformat_minor": 2
}
